{
 "cells": [
  {
   "cell_type": "code",
   "execution_count": 1,
   "id": "23eeab53-14f4-4e34-a163-dc08d1688c07",
   "metadata": {},
   "outputs": [],
   "source": [
    "!mkdir -p input\n",
    "!mkdir -p workflows\n",
    "!echo \"A\" > input/sample_A.fastq\n",
    "!echo \"B\" > input/sample_B.fastq\n",
    "!echo \"C\" > input/sample_C.fastq"
   ]
  },
  {
   "cell_type": "code",
   "execution_count": 12,
   "id": "73f09e9c-1c6f-479d-8f38-5f41bd3f7e78",
   "metadata": {},
   "outputs": [
    {
     "name": "stdout",
     "output_type": "stream",
     "text": [
      "Overwriting workflows/Snakefile\n"
     ]
    }
   ],
   "source": [
    "%%file workflows/Snakefile\n",
    "SAMPLES = [\"A\", \"B\", \"C\"]\n",
    "\n",
    "rule all:\n",
    "    input:\n",
    "        \"genotype_calls/all_samples.vcf\"\n",
    "\n",
    "rule bwa_map:\n",
    "    input:\n",
    "        \"input/sample_{sample}.fastq\"\n",
    "    output:\n",
    "        \"mapped_reads/sample_{sample}.bam\"\n",
    "    shell:\n",
    "        \"cat {input}  > {output}; sleep 10\"\n",
    "rule samtools_sort:\n",
    "    input:\n",
    "        \"mapped_reads/sample_{sample}.bam\"\n",
    "    output:\n",
    "        \"sorted_bams/sample_sorted_{sample}.bam\"\n",
    "    shell:\n",
    "        \"cat {input}  > {output}; sleep 10\"\n",
    "rule samtools_index:\n",
    "    input:\n",
    "        \"sorted_bams/sample_sorted_{sample}.bam\"\n",
    "    output:\n",
    "        \"sorted_bams/sample_sorted_{sample}.bam.bai\"\n",
    "    shell:\n",
    "        \"cat {input}  > {output};sleep 10\"\n",
    "rule genotype_calling:\n",
    "    input:\n",
    "        bams=expand(\"sorted_bams/sample_sorted_{sample}.bam\", sample=SAMPLES),\n",
    "        bais=expand(\"sorted_bams/sample_sorted_{sample}.bam.bai\", sample=SAMPLES)\n",
    "    output:\n",
    "        \"genotype_calls/all_samples.vcf\"\n",
    "    shell:\n",
    "        \"cat {input.bams} > {output}; sleep 10\""
   ]
  },
  {
   "cell_type": "markdown",
   "id": "fddf06e4-763c-4010-8c2a-dc96737d841d",
   "metadata": {
    "tags": []
   },
   "source": [
    "## Follow these steps:\n",
    "* Open terminal from 'New Launcher' menu\n",
    "* Load conda env (e.g., `conda activate notebook-env`)\n",
    "* Change to present directory\n",
    "* Run `ls -l` and check if you can see the `Snakefile` or not\n",
    "* Check **Snakenake** pipeline using the following command\n",
    "  `snakemake -c1 -n -s workflows/Snakefile`\n",
    "  where:\n",
    "  * -c number: Number of cores to use\n",
    "  * -n: Don't execute anything, get a summary\n",
    "* Check **dag** using the following command\n",
    "  `snakemake -s workflows/Snakefile --dag|dot -Tsvg > dot.svg`\n",
    "* **Optional**: Check dag using Gui\n",
    "  `snakemake -s workflows/Snakefile -c1 --gui`\n",
    "  Then open a new tab in browser after replacing `/lab/` with `/proxy/8000/`"
   ]
  },
  {
   "cell_type": "code",
   "execution_count": 10,
   "id": "a08188f6-af78-49a5-8066-53fe3c28083c",
   "metadata": {},
   "outputs": [
    {
     "name": "stdout",
     "output_type": "stream",
     "text": [
      "Overwriting workflows/Snakefile\n"
     ]
    }
   ],
   "source": [
    "%%file workflows/Snakefile\n",
    "SAMPLES = [\"A\", \"B\", \"C\"]\n",
    "\n",
    "rule all:\n",
    "    input:\n",
    "        expand(\"log/notebook/notebook_{sample}.ipynb\", sample=SAMPLES)\n",
    "        \n",
    "rule bwa_map:\n",
    "    input:\n",
    "        \"input/sample_{sample}.fastq\"\n",
    "    output:\n",
    "        \"mapped_reads/sample_{sample}.bam\"\n",
    "    shell:\n",
    "        \"cat {input}  > {output}; sleep 5\"\n",
    "\n",
    "\n",
    "rule test_notebook:\n",
    "    input:\n",
    "        \"mapped_reads/sample_{sample}.bam\"\n",
    "    log:\n",
    "        notebook=\"log/notebook/notebook_{sample}.ipynb\"\n",
    "    notebook:\n",
    "        \"/home/vmuser/notebook/test.py.ipynb\""
   ]
  },
  {
   "cell_type": "code",
   "execution_count": 2,
   "id": "8dda9805-ebea-4bd8-ace5-7cc754c549c1",
   "metadata": {},
   "outputs": [
    {
     "name": "stdout",
     "output_type": "stream",
     "text": [
      "Overwriting workflows/Snakefile\n"
     ]
    }
   ],
   "source": [
    "%%file workflows/Snakefile\n",
    "\n",
    "rule test_nextflow:\n",
    "    params:\n",
    "        pipeline=\"hello\",\n",
    "    wrapper:\n",
    "        \"v1.14.1/utils/nextflow\""
   ]
  },
  {
   "cell_type": "code",
   "execution_count": 12,
   "id": "f046549f-5a59-4361-a6dc-8884baf19b39",
   "metadata": {},
   "outputs": [
    {
     "name": "stdout",
     "output_type": "stream",
     "text": [
      "Overwriting workflows/Snakefile\n"
     ]
    }
   ],
   "source": [
    "%%file workflows/Snakefile\n",
    "rule multiqc_dir:\n",
    "    input: \"/home/vmuser/se.settings\"\n",
    "    params:\n",
    "        extra=\"\",  # Optional: extra parameters for multiqc.\n",
    "        use_input_files_only=True\n",
    "    log:\n",
    "        \"logs/multiqc.log\"\n",
    "    output:\n",
    "        \"qc/multiqc.html\"\n",
    "    wrapper:\n",
    "        \"v1.14.1/bio/multiqc\""
   ]
  },
  {
   "cell_type": "code",
   "execution_count": null,
   "id": "f2eb9cc5-0238-4e2c-85f6-a8696a55017c",
   "metadata": {},
   "outputs": [],
   "source": []
  }
 ],
 "metadata": {
  "kernelspec": {
   "display_name": "Python 3 (ipykernel)",
   "language": "python",
   "name": "python3"
  },
  "language_info": {
   "codemirror_mode": {
    "name": "ipython",
    "version": 3
   },
   "file_extension": ".py",
   "mimetype": "text/x-python",
   "name": "python",
   "nbconvert_exporter": "python",
   "pygments_lexer": "ipython3",
   "version": "3.9.16"
  }
 },
 "nbformat": 4,
 "nbformat_minor": 5
}
