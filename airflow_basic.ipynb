{
 "cells": [
  {
   "cell_type": "markdown",
   "id": "8e43a347-10c1-45b7-81cb-368cf9b83e6c",
   "metadata": {},
   "source": [
    "## Follow these instructions\n",
    "* Open two terminals\n",
    "* Activate conda environment on both, e.g., `conda activate notebook-env`\n",
    "* Load following env variables on these two terminals\n",
    "    * `export FORWARDED_ALLOW_IPS='*'`\n",
    "    * `export AIRFLOW__WEBSERVER__ENABLE_PROXY_FIX=True`\n",
    "    * `export AIRFLOW__CORE__LOAD_EXAMPLES=False`\n",
    "* Create Airflow admin account using following command\n",
    "    `airflow users create -u admin -f Admin -l User -e admin@email.org -r Admin`\n",
    "* Run webserver command on one terminal\n",
    "    `airflow webserver -w1`\n",
    "* Run Airflow scheduler on the second terminal\n",
    "    `airflow scheduler`\n",
    "* Copy URL for the notebook and replace `/lab/address` with `/proxy/8080/`"
   ]
  },
  {
   "cell_type": "code",
   "execution_count": 1,
   "id": "32e343f5-0363-437d-ae6a-014fa15571fc",
   "metadata": {},
   "outputs": [],
   "source": [
    "%%bash\n",
    "export FORWARDED_ALLOW_IPS='*'\n",
    "export AIRFLOW__WEBSERVER__ENABLE_PROXY_FIX=True\n",
    "export AIRFLOW__CORE__LOAD_EXAMPLES=False"
   ]
  },
  {
   "cell_type": "code",
   "execution_count": 38,
   "id": "834a5e03-37fb-4af9-978e-6cff5dd6e3bc",
   "metadata": {},
   "outputs": [],
   "source": [
    "!mkdir -p /tmp/input\n",
    "!echo \"A\" > /tmp/input/sample_A.fastq\n",
    "!echo \"B\" > /tmp/input/sample_B.fastq\n",
    "!echo \"C\" > /tmp/input/sample_C.fastq"
   ]
  },
  {
   "cell_type": "code",
   "execution_count": 57,
   "id": "2017ffc7-84eb-47e6-a049-5f55a55f9059",
   "metadata": {},
   "outputs": [
    {
     "name": "stdout",
     "output_type": "stream",
     "text": [
      "Overwriting /home/studio-lab-user/airflow/dags/test_pipeline_1.py\n"
     ]
    }
   ],
   "source": [
    "%%file ~/airflow/dags/test_pipeline_1.py\n",
    "\n",
    "from datetime import datetime\n",
    "from airflow import DAG\n",
    "from airflow.operators.bash import BashOperator\n",
    "\n",
    "\n",
    "samples = [\n",
    "    [\"A\", \"/tmp/input/sample_A.fastq\"],\n",
    "    [\"B\", \"/tmp/input/sample_B.fastq\"],\n",
    "    [\"C\", \"/tmp/input/sample_C.fastq\"]\n",
    "]\n",
    "\n",
    "with DAG(\n",
    "        dag_id=\"test_pipeline_1\",\n",
    "        schedule_interval=None,\n",
    "        start_date=datetime(2022, 3, 4)) as dag:\n",
    "    genotype_calling = \\\n",
    "        BashOperator(\n",
    "            task_id=\"genotype_calling\",\n",
    "            dag=dag,\n",
    "            params={\n",
    "                'prev_task_ids': [f\"samtools_sort_{sample_index}\" for sample_index in range(0, 3)]\n",
    "            },\n",
    "            bash_command=\"\"\"\n",
    "                mkdir -p /tmp/genotype_calling\n",
    "                cat {{ ' '.join(ti.xcom_pull(task_ids=params.prev_task_ids)) }} > //tmp/genotype_calling/all.vcf\n",
    "                \"\"\"\n",
    "        )\n",
    "    for sample_index in range(0,3):\n",
    "        bwa_map = \\\n",
    "            BashOperator(\n",
    "                task_id=f\"bwa_map_{sample_index}\",\n",
    "                dag=dag,\n",
    "                do_xcom_push=True,\n",
    "            params={\n",
    "                'samples': samples,\n",
    "                'sample_index': sample_index\n",
    "                },\n",
    "                bash_command=\"\"\"\n",
    "                    mkdir -p /tmp/mapped_reads\n",
    "                    fastq_file=`echo {{ params.samples[params.sample_index][1] }}`\n",
    "                    sample_id=`echo {{ params.samples[params.sample_index][0] }}`\n",
    "                    cat $fastq_file > /tmp/mapped_reads/sample_${sample_id}.bam\n",
    "                    echo /tmp/mapped_reads/sample_${sample_id}.bam\n",
    "                \"\"\"\n",
    "            )\n",
    "        samtools_sort = \\\n",
    "            BashOperator(\n",
    "                task_id=f\"samtools_sort_{sample_index}\",\n",
    "                dag=dag,\n",
    "                do_xcom_push=True,\n",
    "                params={\n",
    "                    'samples': samples,\n",
    "                    'sample_index': sample_index,\n",
    "                    'prev_task_ids': f\"bwa_map_{sample_index}\"\n",
    "                    },\n",
    "                bash_command=\"\"\"\n",
    "                mkdir -p /tmp/sorted_reads\n",
    "                sample_id=`echo {{ params.samples[params.sample_index][0] }}`\n",
    "                mapped_bam=`echo {{ ti.xcom_pull(task_ids=params.prev_task_ids) }}`\n",
    "                cat $mapped_bam > /tmp/sorted_reads/sample_sorted_${sample_id}.bam\n",
    "                echo /tmp/sorted_reads/sample_sorted_${sample_id}.bam\n",
    "                \"\"\")\n",
    "        samtools_index = \\\n",
    "            BashOperator(\n",
    "                task_id=f\"samtools_index_{sample_index}\",\n",
    "                dag=dag,\n",
    "                do_xcom_push=True,\n",
    "                params={\n",
    "                    'prev_task_ids': f\"samtools_sort_{sample_index}\"\n",
    "                    },\n",
    "                bash_command=\"\"\"\n",
    "                    sorted_bam=`echo {{ ti.xcom_pull(task_ids=params.prev_task_ids) }}`\n",
    "                    cat $sorted_bam > ${sorted_bam}.bai\n",
    "                    echo ${sorted_bam}.bai\n",
    "                    \"\"\"\n",
    "            )\n",
    "        bwa_map >> samtools_sort >> samtools_index >> genotype_calling\n",
    "        "
   ]
  },
  {
   "cell_type": "code",
   "execution_count": 59,
   "id": "dec83971-0a22-4247-b829-833d6e73cfa1",
   "metadata": {},
   "outputs": [
    {
     "name": "stdout",
     "output_type": "stream",
     "text": [
      "A\n",
      "B\n",
      "C\n"
     ]
    }
   ],
   "source": [
    "cat /tmp/genotype_calling/all.vcf"
   ]
  },
  {
   "cell_type": "code",
   "execution_count": null,
   "id": "ee83cf42-3c88-40d3-bc10-e075921b463e",
   "metadata": {},
   "outputs": [],
   "source": []
  }
 ],
 "metadata": {
  "kernelspec": {
   "display_name": "Python 3 (ipykernel)",
   "language": "python",
   "name": "python3"
  },
  "language_info": {
   "codemirror_mode": {
    "name": "ipython",
    "version": 3
   },
   "file_extension": ".py",
   "mimetype": "text/x-python",
   "name": "python",
   "nbconvert_exporter": "python",
   "pygments_lexer": "ipython3",
   "version": "3.9.16"
  }
 },
 "nbformat": 4,
 "nbformat_minor": 5
}
