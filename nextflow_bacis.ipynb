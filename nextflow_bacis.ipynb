{
 "cells": [
  {
   "cell_type": "code",
   "execution_count": 1,
   "id": "830f80ed-12f3-4260-85d1-bed4527943e2",
   "metadata": {},
   "outputs": [],
   "source": [
    "!mkdir -p input\n",
    "!mkdir -p workflows\n",
    "!echo \"A\" > input/sample_A.fastq\n",
    "!echo \"B\" > input/sample_B.fastq\n",
    "!echo \"C\" > input/sample_C.fastq"
   ]
  },
  {
   "cell_type": "code",
   "execution_count": 4,
   "id": "7f816ec0-8fc2-44f7-aef1-edc97abb8766",
   "metadata": {},
   "outputs": [
    {
     "name": "stdout",
     "output_type": "stream",
     "text": [
      "Overwriting test.nf\n"
     ]
    }
   ],
   "source": [
    "%%file test.nf\n",
    "num = Channel.from( 1, 2, 3 )\n",
    "\n",
    "process basicExample {\n",
    "  input:\n",
    "  val x from num\n",
    "\n",
    "  \"echo process job $x\"\n",
    "}"
   ]
  },
  {
   "cell_type": "code",
   "execution_count": 7,
   "id": "83f4dfdf-a86b-48e1-b760-28600122d766",
   "metadata": {},
   "outputs": [
    {
     "name": "stdout",
     "output_type": "stream",
     "text": [
      "N E X T F L O W  ~  version 22.04.0\n",
      "Launching `test.nf` [distraught_dijkstra] DSL1 - revision: bb35bbac74\n",
      "[-        ] process > basicExample -\n",
      "\n",
      "executor >  local (3)\n",
      "[94/37e31a] process > basicExample (2) [100%] 3 of 3 ✔\n",
      "\n",
      "executor >  local (3)\n",
      "[94/37e31a] process > basicExample (2) [100%] 3 of 3 ✔\n",
      "\n"
     ]
    }
   ],
   "source": [
    "%%bash\n",
    "export JAVA_CMD=/home/studio-lab-user/.conda/envs/pipeline_tutorial/bin/java\n",
    "/home/studio-lab-user/.conda/envs/pipeline_tutorial/bin/nextflow test.nf -dsl1"
   ]
  },
  {
   "cell_type": "code",
   "execution_count": 8,
   "id": "bb86fc63-72db-434b-8006-a98c49a3d1a6",
   "metadata": {},
   "outputs": [
    {
     "name": "stdout",
     "output_type": "stream",
     "text": [
      "Overwriting test.nf\n"
     ]
    }
   ],
   "source": [
    "%%file test.nf\n",
    " \n",
    "process bwa_map {\n",
    "    input:\n",
    "        tuple val(sampleName), path(reads)\n",
    "    output:\n",
    "        tuple  val(sampleName), path(\"sample_${sampleName}.bam\")\n",
    "    script:\n",
    "        \"\"\"\n",
    "        cat  $reads > sample_${sampleName}.bam\n",
    "        sleep 5\n",
    "        \"\"\"\n",
    "}\n",
    "\n",
    "process samtools_sort {\n",
    "    input:\n",
    "        tuple val(sampleName), path(unsorted_bam)\n",
    "    output:\n",
    "        tuple  val(sampleName), path(\"sample_sorted_${sampleName}.bam\")\n",
    "    script:\n",
    "        \"\"\"\n",
    "        cat $unsorted_bam > sample_sorted_${sampleName}.bam\n",
    "        sleep 5\n",
    "        \"\"\"\n",
    "}\n",
    "\n",
    "process samtools_index {\n",
    "    input:\n",
    "        tuple val(sampleName), path(sorted_bam)\n",
    "    output:\n",
    "        tuple  val(sampleName), path(\"sample_sorted_${sampleName}.bam.bai\")\n",
    "    script:\n",
    "        \"\"\"\n",
    "        cat $sorted_bam > sample_sorted_${sampleName}.bam.bai\n",
    "        sleep 5\n",
    "        \"\"\"\n",
    "}\n",
    "\n",
    "process genotype_calling {\n",
    "    input:\n",
    "        file \"*.bam\"\n",
    "        file \"*.bai\"\n",
    "    output:\n",
    "        publishDir \"${baseDir}/final_output\", mode: 'copy'\n",
    "        path(\"all.vcf\")\n",
    "    script:\n",
    "        \"\"\"\n",
    "        cat *.bam > all.vcf\n",
    "        \"\"\"  \n",
    "}\n",
    "\n",
    "workflow {\n",
    "    paths = Channel.from(\n",
    "               tuple(\"A\", \"${baseDir}/input/sample_A.fastq\"),\n",
    "               tuple(\"B\", \"${baseDir}/input/sample_B.fastq\"),\n",
    "               tuple(\"C\", \"${baseDir}/input/sample_C.fastq\"))\n",
    "        .map(row -> tuple(row[0], row[1]))\n",
    "    unsorted_bams_ch = bwa_map(paths)\n",
    "    sorted_bams_ch = samtools_sort(unsorted_bams_ch)\n",
    "    sorted_index_ch = samtools_index(sorted_bams_ch)\n",
    "    genotype_calling(\n",
    "        sorted_bams_ch.map(row -> row[1]).collect(),\n",
    "        sorted_index_ch.map(row -> row[1]).collect())\n",
    "}"
   ]
  },
  {
   "cell_type": "markdown",
   "id": "d92e3cc4-7d20-496b-b107-fa7196d7fd96",
   "metadata": {},
   "source": [
    "## Follow these steps\n",
    "* Open terminal\n",
    "* Activate conda environment, e.g., `conda activate notebook-env`\n",
    "* Change to currect directory\n",
    "* Run nextflow pipeline using the following command\n",
    "  `nextflow run -dsl2 test.nf`\n",
    "* Check output file \n",
    "  `cat final_output/all.vcf`~"
   ]
  },
  {
   "cell_type": "code",
   "execution_count": 12,
   "id": "7e9d10be-1c18-4870-8e86-7206dca67b95",
   "metadata": {
    "tags": []
   },
   "outputs": [
    {
     "name": "stdout",
     "output_type": "stream",
     "text": [
      "N E X T F L O W  ~  version 22.04.0\n",
      "Launching `test.nf` [thirsty_pauling] DSL2 - revision: 2221fbec4e\n",
      "[-        ] process > bwa_map        -\n",
      "[-        ] process > samtools_sort  -\n",
      "[-        ] process > samtools_index -\n",
      "\n",
      "[-        ] process > bwa_map          -\n",
      "[-        ] process > samtools_sort    -\n",
      "[-        ] process > samtools_index   -\n",
      "[-        ] process > genotype_calling -\n",
      "\n",
      "executor >  local (3)\n",
      "[d8/c70777] process > bwa_map (2)      [  0%] 0 of 3\n",
      "[-        ] process > samtools_sort    -\n",
      "[-        ] process > samtools_index   -\n",
      "[-        ] process > genotype_calling -\n",
      "\n",
      "executor >  local (6)\n",
      "[d8/c70777] process > bwa_map (2)       [100%] 3 of 3 ✔\n",
      "[cb/463385] process > samtools_sort (3) [  0%] 0 of 3\n",
      "[-        ] process > samtools_index    -\n",
      "[-        ] process > genotype_calling  -\n",
      "\n",
      "executor >  local (7)\n",
      "[d8/c70777] process > bwa_map (2)        [100%] 3 of 3 ✔\n",
      "[60/f29268] process > samtools_sort (2)  [ 33%] 1 of 3\n",
      "[14/a45c74] process > samtools_index (1) [  0%] 0 of 1\n",
      "[-        ] process > genotype_calling   -\n",
      "\n",
      "executor >  local (9)\n",
      "[d8/c70777] process > bwa_map (2)        [100%] 3 of 3 ✔\n",
      "[cb/463385] process > samtools_sort (3)  [100%] 3 of 3 ✔\n",
      "[3d/0a5ab1] process > samtools_index (3) [  0%] 0 of 3\n",
      "[-        ] process > genotype_calling   -\n",
      "\n",
      "executor >  local (9)\n",
      "[d8/c70777] process > bwa_map (2)        [100%] 3 of 3 ✔\n",
      "[cb/463385] process > samtools_sort (3)  [100%] 3 of 3 ✔\n",
      "[14/a45c74] process > samtools_index (1) [ 33%] 1 of 3\n",
      "[-        ] process > genotype_calling   -\n",
      "\n",
      "executor >  local (10)\n",
      "[d8/c70777] process > bwa_map (2)        [100%] 3 of 3 ✔\n",
      "[cb/463385] process > samtools_sort (3)  [100%] 3 of 3 ✔\n",
      "[3d/0a5ab1] process > samtools_index (3) [100%] 3 of 3 ✔\n",
      "[9a/85db3c] process > genotype_calling   [100%] 1 of 1 ✔\n",
      "\n"
     ]
    }
   ],
   "source": [
    "%%bash\n",
    "export JAVA_CMD=/home/studio-lab-user/.conda/envs/pipeline_tutorial/bin/java\n",
    "/home/studio-lab-user/.conda/envs/pipeline_tutorial/bin/nextflow test.nf -dsl2"
   ]
  },
  {
   "cell_type": "code",
   "execution_count": null,
   "id": "928d7872-b565-48dc-8787-bc28362fb9a5",
   "metadata": {},
   "outputs": [],
   "source": []
  }
 ],
 "metadata": {
  "kernelspec": {
   "display_name": "notebook-env:Python",
   "language": "python",
   "name": "conda-env-notebook-env-py"
  },
  "language_info": {
   "codemirror_mode": {
    "name": "ipython",
    "version": 3
   },
   "file_extension": ".py",
   "mimetype": "text/x-python",
   "name": "python",
   "nbconvert_exporter": "python",
   "pygments_lexer": "ipython3",
   "version": "3.7.12"
  }
 },
 "nbformat": 4,
 "nbformat_minor": 5
}
